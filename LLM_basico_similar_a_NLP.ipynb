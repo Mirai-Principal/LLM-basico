{
  "nbformat": 4,
  "nbformat_minor": 0,
  "metadata": {
    "colab": {
      "provenance": []
    },
    "kernelspec": {
      "name": "python3",
      "display_name": "Python 3"
    },
    "language_info": {
      "name": "python"
    }
  },
  "cells": [
    {
      "cell_type": "code",
      "source": [
        "import tensorflow as tf\n",
        "import numpy as np\n",
        "from sklearn.metrics.pairwise import cosine_similarity\n",
        "import pandas as pd"
      ],
      "metadata": {
        "id": "DLj7tnEjyGOS"
      },
      "execution_count": 122,
      "outputs": []
    },
    {
      "cell_type": "markdown",
      "source": [
        "corpus de entrenamiento"
      ],
      "metadata": {
        "id": "G8C15UIQ5b_r"
      }
    },
    {
      "cell_type": "code",
      "source": [
        "# Cargar el corpus y las respuestas desde el CSV\n",
        "df = pd.read_csv(\"chatbot_corpus_respuestas.csv\")\n",
        "\n",
        "corpus = df[\"entrada\"].tolist()\n",
        "respuestas = df[\"respuesta\"].tolist()"
      ],
      "metadata": {
        "id": "6O6Re-lI5acx"
      },
      "execution_count": 123,
      "outputs": []
    },
    {
      "cell_type": "markdown",
      "source": [
        "obtiene los embeddings del corpus"
      ],
      "metadata": {
        "id": "-2rTT2uB5pak"
      }
    },
    {
      "cell_type": "code",
      "execution_count": 124,
      "metadata": {
        "id": "yKPjCvmuyDME"
      },
      "outputs": [],
      "source": [
        "# 1. Vectorizador\n",
        "vectorizer = tf.keras.layers.TextVectorization(\n",
        "    max_tokens=1000,               # Número máximo de palabras únicas en el vocabulario, aumentar si el cospus crece\n",
        "    output_mode='int',             # Salida como secuencia de enteros (índices de palabras)\n",
        "    output_sequence_length=100       # Longitud fija de la secuencia de salida, aumentar si las frases son mas largas\n",
        ")\n",
        "vectorizer.adapt(corpus)\n",
        "\n",
        "# 2. Embedding\n",
        "embedding_dim = 100 #aumentar si el dataset aumenta\n",
        "embedding_layer = tf.keras.layers.Embedding(input_dim=1000, output_dim=embedding_dim)\n",
        "\n",
        "# 3. Embeddings del corpus\n",
        "corpus_tokens = vectorizer(corpus)\n",
        "corpus_embeddings = embedding_layer(corpus_tokens)\n",
        "corpus_vectors = tf.reduce_mean(corpus_embeddings, axis=1).numpy()"
      ]
    },
    {
      "cell_type": "code",
      "source": [
        "# 4. Función para responder\n",
        "def responder_frase_top3(frase_usuario):\n",
        "    token_usuario = vectorizer([frase_usuario])\n",
        "    embedding_usuario = embedding_layer(token_usuario)\n",
        "    vector_usuario = tf.reduce_mean(embedding_usuario, axis=1).numpy()\n",
        "\n",
        "    # Calcular similitud coseno con cada frase del corpus\n",
        "    similitudes = cosine_similarity(vector_usuario, corpus_vectors).flatten()\n",
        "\n",
        "    # Obtener los 3 índices con mayor similitud\n",
        "    top_3_indices = np.argsort(similitudes)[-3:][::-1]  # Orden descendente\n",
        "\n",
        "    # Obtener las respuestas correspondientes\n",
        "    top_3_respuestas = [respuestas[i] for i in top_3_indices]\n",
        "    top_3_similitudes = [similitudes[i] for i in top_3_indices]\n",
        "\n",
        "    return list(zip(top_3_respuestas, top_3_similitudes))"
      ],
      "metadata": {
        "id": "GL4Ye_Bh4Eix"
      },
      "execution_count": 125,
      "outputs": []
    },
    {
      "cell_type": "code",
      "source": [
        "# 5. Probar con algunas entradas\n",
        "entrada = \"hasta mañana\"\n",
        "\n",
        "print(f\"> Usuario: {entrada}\")\n",
        "respuestas_top3 = responder_frase_top3(entrada)\n",
        "\n",
        "for i, (respuesta, score) in enumerate(respuestas_top3, start=1):\n",
        "    print(f\"{i}. 🤖 {respuesta} (similitud: {score:.10f})\")"
      ],
      "metadata": {
        "colab": {
          "base_uri": "https://localhost:8080/"
        },
        "id": "5PjxpvIzyanO",
        "outputId": "d579aca0-6387-433a-af95-107ff973d9c8"
      },
      "execution_count": 136,
      "outputs": [
        {
          "output_type": "stream",
          "name": "stdout",
          "text": [
            "> Usuario: hasta mañana\n",
            "1. 🤖 Espero verte pronto (similitud: 0.9998881221)\n",
            "2. 🤖 Nos vemos pronto (similitud: 0.9998766780)\n",
            "3. 🤖 Oh, entiendo (similitud: 0.9998711944)\n"
          ]
        }
      ]
    }
  ]
}